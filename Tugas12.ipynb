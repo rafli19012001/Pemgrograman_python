{
  "nbformat": 4,
  "nbformat_minor": 0,
  "metadata": {
    "colab": {
      "name": "Untitled2.ipynb",
      "provenance": [],
      "collapsed_sections": [],
      "mount_file_id": "1HP6WOdI82sccyxz6ccnl-7M3Gdnv3DFn",
      "authorship_tag": "ABX9TyMpXGI+VE/NeYQMSDf/JZ5p",
      "include_colab_link": true
    },
    "kernelspec": {
      "name": "python3",
      "display_name": "Python 3"
    }
  },
  "cells": [
    {
      "cell_type": "markdown",
      "metadata": {
        "id": "view-in-github",
        "colab_type": "text"
      },
      "source": [
        "<a href=\"https://colab.research.google.com/github/rafli19012001/Pemgrograman_python/blob/main/Tugas12.ipynb\" target=\"_parent\"><img src=\"https://colab.research.google.com/assets/colab-badge.svg\" alt=\"Open In Colab\"/></a>"
      ]
    },
    {
      "cell_type": "code",
      "metadata": {
        "id": "EwMymMuHsquM"
      },
      "source": [
        "import numpy as np"
      ],
      "execution_count": 8,
      "outputs": []
    },
    {
      "cell_type": "code",
      "metadata": {
        "colab": {
          "base_uri": "https://localhost:8080/"
        },
        "id": "hwuS9nhltHjJ",
        "outputId": "f5ede7b4-427a-4bc9-d29e-709147c422fc"
      },
      "source": [
        "#INPUT DATA YANG AKAN DIGUNAKAN\r\n",
        "d = int(input(\"Jarak Pengirim dan Penerima (km)\\t\\t\\t: \"))\r\n",
        "fc= int(input(\"Frekuensi dalam MHz (range 150-2000)\\t\\t\\t: \"))\r\n",
        "ta = input(\"Tipe area (urban, suburban, atau open)\\t\\t\\t: \")\r\n",
        "ht= int(input(\"Tinggi antena pemancar dalam meter(range 30-200)\\t: \"))\r\n",
        "hg= int(input(\"Tinggi antena penerima dalam meter(range 1-30)\\t: \"))"
      ],
      "execution_count": 9,
      "outputs": [
        {
          "output_type": "stream",
          "text": [
            "Jarak Pengirim dan Penerima (km)\t\t\t: 10\n",
            "Frekuensi dalam MHz (range 150-2000)\t\t\t: 170\n",
            "Tipe area (urban, suburban, atau open)\t\t\t: urban\n",
            "Tinggi antena pemancar dalam meter(range 30-200)\t: 40\n",
            "Tinggi antena penerima dalam meter(range 1-30)\t: 25\n"
          ],
          "name": "stdout"
        }
      ]
    },
    {
      "cell_type": "code",
      "metadata": {
        "id": "7J5MO3EFtMZm"
      },
      "source": [
        "#KONDISI PERMISALAN FREKUENSI\r\n",
        "if fc < 150 or fc > 2000:\r\n",
        "  print(\"Frekuensi yang anda masukan tidak berada di dalam jangkauan\")\r\n",
        "  fc = 0"
      ],
      "execution_count": 10,
      "outputs": []
    },
    {
      "cell_type": "code",
      "metadata": {
        "id": "DpETytdFtOEK"
      },
      "source": [
        "#KONDISI PERMISALAN TIPE AREA\r\n",
        "if ta == \"suburban\":\r\n",
        "  cm = -2*(np.log(fc/28)**2)-5.4\r\n",
        "elif ta == \"urban\":\r\n",
        "  cm = 0\r\n",
        "elif ta == \"open\":\r\n",
        "  cm = -4.78*(np.log(fc))**2+18.33*np.log(fc)-40.94\r\n",
        "else:\r\n",
        "  printf(\"Tipe area yang anda masukkan salah/tidak ada di dalam pilihan\")\r\n",
        "  cm = -9999999"
      ],
      "execution_count": 11,
      "outputs": []
    },
    {
      "cell_type": "code",
      "metadata": {
        "id": "SjAA9-8xtPu-"
      },
      "source": [
        "#KONDISI PEMISALAN TINGGI ANTENA PEMANCAR\r\n",
        "if ht < 30 or ht > 200:\r\n",
        "  print(\"Tinggi yang anda masukan tidak berada di dalam jangkauan\")\r\n",
        "  ht = 0\r\n",
        "\r\n",
        "elif hg < 1 or hg > 30:\r\n",
        "  print(\"Tinggi yang anda masukan tidak berada di dalam jangkauan\")\r\n",
        "  ht = 0"
      ],
      "execution_count": 12,
      "outputs": []
    },
    {
      "cell_type": "code",
      "metadata": {
        "id": "1r0eqUpdtRO7"
      },
      "source": [
        "#MENGHITUNG C1 dan C2\r\n",
        "if fc >= 400 or fc <= 1500:\r\n",
        "  c1 = 69.55\r\n",
        "  c2 = 26.16\r\n",
        "elif fc > 1500 or fc <= 2000:\r\n",
        "  c1 = 46.3\r\n",
        "  c2 = 33.9\r\n",
        "else:\r\n",
        "  c1 = 0\r\n",
        "  c2 = 0"
      ],
      "execution_count": 13,
      "outputs": []
    },
    {
      "cell_type": "code",
      "metadata": {
        "id": "V5LY_faEtSzt"
      },
      "source": [
        "#MENGHITUNG a(hg)\r\n",
        "ahg = (1.1*np.log(fc)-0.7)*hg - (1.56*np.log(fc)-0.8)"
      ],
      "execution_count": 14,
      "outputs": []
    },
    {
      "cell_type": "code",
      "metadata": {
        "id": "bqH3a1QStUKM"
      },
      "source": [
        "#COST 231 PATHLOSS MODEL\r\n",
        "def pathloss():\r\n",
        "  lp = c1+c2*np.log(fc)-13.83*np.log(ht)-ahg+(44.9-6.55*np.log(ht))*np.log(d)+cm\r\n",
        "  print(\"Pathloss: \",lp,\" dB\")"
      ],
      "execution_count": 15,
      "outputs": []
    },
    {
      "cell_type": "code",
      "metadata": {
        "colab": {
          "base_uri": "https://localhost:8080/"
        },
        "id": "i0WWpNLetVcc",
        "outputId": "1d4a63a8-c38f-45b1-f7ae-5384c41cae1a"
      },
      "source": [
        "#PROSEDUR PATHLOSS\r\n",
        "pathloss()"
      ],
      "execution_count": 16,
      "outputs": [
        {
          "output_type": "stream",
          "text": [
            "Pathloss:  84.11331307332725  dB\n"
          ],
          "name": "stdout"
        }
      ]
    }
  ]
}